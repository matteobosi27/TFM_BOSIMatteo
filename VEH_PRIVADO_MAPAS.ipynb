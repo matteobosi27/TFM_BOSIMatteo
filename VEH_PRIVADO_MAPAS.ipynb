{
 "cells": [
  {
   "cell_type": "code",
   "execution_count": null,
   "id": "42e010c3",
   "metadata": {},
   "outputs": [],
   "source": [
    "import pandas as pd\n",
    "import geopandas as gpd\n",
    "\n",
    "df = gpd.read_parquet(\"XXX.parquet\")\n",
    "\n",
    "gdf = gpd.GeoDataFrame(df, geometry='geometry')\n",
    "\n",
    "valores_permitidos = ['1', '2', '3', '4', '5']\n",
    "valores_permitidos2 = ['30', '35', '40']\n",
    "\n",
    "df_class4 = df[df['FUNC_CLASS'].isin(valores_permitidos)]\n",
    "df_class4 = df[df['CONFIDENCE'].isin(valores_permitidos2)]\n",
    "\n",
    "df_class4['FECHA'] = df_class4['FECHA'].astype(str)\n",
    "df_class4['FECHA'] = df_class4['FECHA'].str.strip()\n",
    "\n",
    "fechas_seleccionadas = ['2022-04-24', '2022-05-08', '2022-05-15']\n",
    "df_class = df_class4[df_class4['FECHA'].isin(fechas_seleccionadas)]"
   ]
  },
  {
   "cell_type": "code",
   "execution_count": null,
   "id": "d55c58b1",
   "metadata": {},
   "outputs": [],
   "source": [
    "df_class['HORA'] = df_class['HORA'].astype(str)\n",
    "df_class['HORA'] = df_class['HORA'].str.strip()"
   ]
  },
  {
   "cell_type": "code",
   "execution_count": null,
   "id": "332c5678",
   "metadata": {},
   "outputs": [],
   "source": [
    "horas = ['20:30:00']\n",
    "df_class = df_class[df_class['HORA'].isin(horas)]"
   ]
  },
  {
   "cell_type": "code",
   "execution_count": null,
   "id": "fc283733",
   "metadata": {},
   "outputs": [],
   "source": [
    "df_class['MEDIA_OTROS'] = df_class.groupby('LINK_ID')['MEAN'].transform('mean')\n",
    "\n",
    "df_class['MEDIA_8'] = df_class[df_class['FECHA'].isin(['2022-05-08'])].groupby('LINK_ID')['MEAN'].transform('mean')\n",
    "\n",
    "df_class['MEDIA_OTROS'] = df_class.groupby('LINK_ID')['MEDIA_OTROS'].transform('first')\n",
    "\n",
    "df_class['MEDIA_8'] = df_class.groupby('LINK_ID')['MEDIA_8'].transform('first')\n",
    "\n",
    "df_class['CONGESTION'] = df_class['MEDIA_8'] / df_class['MEDIA_OTROS']\n",
    "\n",
    "df_class"
   ]
  },
  {
   "cell_type": "code",
   "execution_count": null,
   "id": "a51a8835",
   "metadata": {},
   "outputs": [],
   "source": [
    "df_class.to_file('XXX_shapefile_todo_20h30.shp')"
   ]
  }
 ],
 "metadata": {
  "kernelspec": {
   "display_name": "Python 3 (ipykernel)",
   "language": "python",
   "name": "python3"
  },
  "language_info": {
   "codemirror_mode": {
    "name": "ipython",
    "version": 3
   },
   "file_extension": ".py",
   "mimetype": "text/x-python",
   "name": "python",
   "nbconvert_exporter": "python",
   "pygments_lexer": "ipython3",
   "version": "3.9.13"
  }
 },
 "nbformat": 4,
 "nbformat_minor": 5
}
